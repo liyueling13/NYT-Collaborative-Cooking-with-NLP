{
 "cells": [
  {
   "cell_type": "markdown",
   "metadata": {},
   "source": [
    "Based on https://towardsdatascience.com/detecting-bad-customer-reviews-with-nlp-d8b36134dc7e"
   ]
  },
  {
   "cell_type": "code",
   "execution_count": 20,
   "metadata": {},
   "outputs": [],
   "source": [
    "import pandas as pd\n",
    "import numpy as np"
   ]
  },
  {
   "cell_type": "code",
   "execution_count": 3,
   "metadata": {},
   "outputs": [
    {
     "data": {
      "text/html": [
       "<div>\n",
       "<style scoped>\n",
       "    .dataframe tbody tr th:only-of-type {\n",
       "        vertical-align: middle;\n",
       "    }\n",
       "\n",
       "    .dataframe tbody tr th {\n",
       "        vertical-align: top;\n",
       "    }\n",
       "\n",
       "    .dataframe thead th {\n",
       "        text-align: right;\n",
       "    }\n",
       "</style>\n",
       "<table border=\"1\" class=\"dataframe\">\n",
       "  <thead>\n",
       "    <tr style=\"text-align: right;\">\n",
       "      <th></th>\n",
       "      <th>userDisplayName</th>\n",
       "      <th>commentBody</th>\n",
       "    </tr>\n",
       "  </thead>\n",
       "  <tbody>\n",
       "    <tr>\n",
       "      <th>0</th>\n",
       "      <td>lmk</td>\n",
       "      <td>Yum.  These took much longer than 16 minutes t...</td>\n",
       "    </tr>\n",
       "    <tr>\n",
       "      <th>1</th>\n",
       "      <td>Sonya</td>\n",
       "      <td>If you follow the recipe as written the tahini...</td>\n",
       "    </tr>\n",
       "    <tr>\n",
       "      <th>2</th>\n",
       "      <td>KV</td>\n",
       "      <td>I have made these cookies 5 times. My advice i...</td>\n",
       "    </tr>\n",
       "    <tr>\n",
       "      <th>3</th>\n",
       "      <td>MaryN</td>\n",
       "      <td>I liked this- the tahini is slightly more subt...</td>\n",
       "    </tr>\n",
       "    <tr>\n",
       "      <th>4</th>\n",
       "      <td>Maggie B</td>\n",
       "      <td>Used Shaila M's tweaks. Baked first tray strai...</td>\n",
       "    </tr>\n",
       "  </tbody>\n",
       "</table>\n",
       "</div>"
      ],
      "text/plain": [
       "  userDisplayName                                        commentBody\n",
       "0             lmk  Yum.  These took much longer than 16 minutes t...\n",
       "1           Sonya  If you follow the recipe as written the tahini...\n",
       "2              KV  I have made these cookies 5 times. My advice i...\n",
       "3           MaryN  I liked this- the tahini is slightly more subt...\n",
       "4        Maggie B  Used Shaila M's tweaks. Baked first tray strai..."
      ]
     },
     "execution_count": 3,
     "metadata": {},
     "output_type": "execute_result"
    }
   ],
   "source": [
    "tahini_df = pd.read_csv(\"salted-tahini-chocolate-chip-cookies.csv\")\n",
    "\n",
    "tahini_df.head()"
   ]
  },
  {
   "cell_type": "code",
   "execution_count": 4,
   "metadata": {},
   "outputs": [
    {
     "name": "stdout",
     "output_type": "stream",
     "text": [
      "CPU times: user 5.05 s, sys: 655 ms, total: 5.71 s\n",
      "Wall time: 11.1 s\n"
     ]
    }
   ],
   "source": [
    "%%time\n",
    "\n",
    "# return the wordnet object value corresponding to the POS tag\n",
    "from nltk.corpus import wordnet\n",
    "\n",
    "def get_wordnet_pos(pos_tag):\n",
    "    if pos_tag.startswith('J'):\n",
    "        return wordnet.ADJ\n",
    "    elif pos_tag.startswith('V'):\n",
    "        return wordnet.VERB\n",
    "    elif pos_tag.startswith('N'):\n",
    "        return wordnet.NOUN\n",
    "    elif pos_tag.startswith('R'):\n",
    "        return wordnet.ADV\n",
    "    else:\n",
    "        return wordnet.NOUN\n",
    "    \n",
    "import string\n",
    "from nltk import pos_tag\n",
    "from nltk.corpus import stopwords\n",
    "from nltk.tokenize import WhitespaceTokenizer\n",
    "from nltk.stem import WordNetLemmatizer\n",
    "\n",
    "def clean_text(text):\n",
    "    # lower text\n",
    "    text = text.lower()\n",
    "    # tokenize text and remove puncutation\n",
    "    text = [word.strip(string.punctuation) for word in text.split(\" \")]\n",
    "    # remove words that contain numbers\n",
    "    text = [word for word in text if not any(c.isdigit() for c in word)]\n",
    "    # remove stop words\n",
    "    stop = stopwords.words('english')\n",
    "    text = [x for x in text if x not in stop]\n",
    "    # remove empty tokens\n",
    "    text = [t for t in text if len(t) > 0]\n",
    "    # pos tag text\n",
    "    pos_tags = pos_tag(text)\n",
    "    # lemmatize text\n",
    "    text = [WordNetLemmatizer().lemmatize(t[0], get_wordnet_pos(t[1])) for t in pos_tags]\n",
    "    # remove words with only one letter\n",
    "    text = [t for t in text if len(t) > 1]\n",
    "    # join all\n",
    "    text = \" \".join(text)\n",
    "    return(text)\n",
    "\n",
    "# clean text data\n",
    "tahini_df[\"review_clean\"] = tahini_df[\"commentBody\"].apply(lambda x: clean_text(x))"
   ]
  },
  {
   "cell_type": "code",
   "execution_count": 5,
   "metadata": {},
   "outputs": [
    {
     "name": "stderr",
     "output_type": "stream",
     "text": [
      "/Users/Nida/opt/anaconda3/lib/python3.7/site-packages/nltk/twitter/__init__.py:20: UserWarning: The twython library has not been installed. Some functionality from the twitter package will not be available.\n",
      "  warnings.warn(\"The twython library has not been installed. \"\n"
     ]
    }
   ],
   "source": [
    "# will use an established sentiment analyzer\n",
    "from nltk.sentiment.vader import SentimentIntensityAnalyzer\n"
   ]
  },
  {
   "cell_type": "code",
   "execution_count": 6,
   "metadata": {},
   "outputs": [],
   "source": [
    "sid = SentimentIntensityAnalyzer()\n",
    "tahini_df[\"sentiments\"] = tahini_df[\"commentBody\"].apply(lambda x: sid.polarity_scores(x))\n",
    "tahini_df = pd.concat([tahini_df.drop(['sentiments'], axis=1), tahini_df['sentiments'].apply(pd.Series)], axis=1)"
   ]
  },
  {
   "cell_type": "code",
   "execution_count": 7,
   "metadata": {},
   "outputs": [
    {
     "data": {
      "text/html": [
       "<div>\n",
       "<style scoped>\n",
       "    .dataframe tbody tr th:only-of-type {\n",
       "        vertical-align: middle;\n",
       "    }\n",
       "\n",
       "    .dataframe tbody tr th {\n",
       "        vertical-align: top;\n",
       "    }\n",
       "\n",
       "    .dataframe thead th {\n",
       "        text-align: right;\n",
       "    }\n",
       "</style>\n",
       "<table border=\"1\" class=\"dataframe\">\n",
       "  <thead>\n",
       "    <tr style=\"text-align: right;\">\n",
       "      <th></th>\n",
       "      <th>userDisplayName</th>\n",
       "      <th>commentBody</th>\n",
       "      <th>review_clean</th>\n",
       "      <th>neg</th>\n",
       "      <th>neu</th>\n",
       "      <th>pos</th>\n",
       "      <th>compound</th>\n",
       "    </tr>\n",
       "  </thead>\n",
       "  <tbody>\n",
       "    <tr>\n",
       "      <th>0</th>\n",
       "      <td>lmk</td>\n",
       "      <td>Yum.  These took much longer than 16 minutes t...</td>\n",
       "      <td>yum take much long minute cook i'm also denver...</td>\n",
       "      <td>0.050</td>\n",
       "      <td>0.834</td>\n",
       "      <td>0.116</td>\n",
       "      <td>0.5499</td>\n",
       "    </tr>\n",
       "    <tr>\n",
       "      <th>1</th>\n",
       "      <td>Sonya</td>\n",
       "      <td>If you follow the recipe as written the tahini...</td>\n",
       "      <td>follow recipe write tahini sesame flavour cook...</td>\n",
       "      <td>0.000</td>\n",
       "      <td>0.876</td>\n",
       "      <td>0.124</td>\n",
       "      <td>0.7501</td>\n",
       "    </tr>\n",
       "    <tr>\n",
       "      <th>2</th>\n",
       "      <td>KV</td>\n",
       "      <td>I have made these cookies 5 times. My advice i...</td>\n",
       "      <td>make cooky time advice everything recipe say d...</td>\n",
       "      <td>0.000</td>\n",
       "      <td>0.805</td>\n",
       "      <td>0.195</td>\n",
       "      <td>0.9493</td>\n",
       "    </tr>\n",
       "    <tr>\n",
       "      <th>3</th>\n",
       "      <td>MaryN</td>\n",
       "      <td>I liked this- the tahini is slightly more subt...</td>\n",
       "      <td>like tahini slightly subtle pb cookie combine ...</td>\n",
       "      <td>0.035</td>\n",
       "      <td>0.876</td>\n",
       "      <td>0.089</td>\n",
       "      <td>0.5256</td>\n",
       "    </tr>\n",
       "    <tr>\n",
       "      <th>4</th>\n",
       "      <td>Maggie B</td>\n",
       "      <td>Used Shaila M's tweaks. Baked first tray strai...</td>\n",
       "      <td>use shaila m's tweak bake first tray straight ...</td>\n",
       "      <td>0.000</td>\n",
       "      <td>0.817</td>\n",
       "      <td>0.183</td>\n",
       "      <td>0.8625</td>\n",
       "    </tr>\n",
       "  </tbody>\n",
       "</table>\n",
       "</div>"
      ],
      "text/plain": [
       "  userDisplayName                                        commentBody  \\\n",
       "0             lmk  Yum.  These took much longer than 16 minutes t...   \n",
       "1           Sonya  If you follow the recipe as written the tahini...   \n",
       "2              KV  I have made these cookies 5 times. My advice i...   \n",
       "3           MaryN  I liked this- the tahini is slightly more subt...   \n",
       "4        Maggie B  Used Shaila M's tweaks. Baked first tray strai...   \n",
       "\n",
       "                                        review_clean    neg    neu    pos  \\\n",
       "0  yum take much long minute cook i'm also denver...  0.050  0.834  0.116   \n",
       "1  follow recipe write tahini sesame flavour cook...  0.000  0.876  0.124   \n",
       "2  make cooky time advice everything recipe say d...  0.000  0.805  0.195   \n",
       "3  like tahini slightly subtle pb cookie combine ...  0.035  0.876  0.089   \n",
       "4  use shaila m's tweak bake first tray straight ...  0.000  0.817  0.183   \n",
       "\n",
       "   compound  \n",
       "0    0.5499  \n",
       "1    0.7501  \n",
       "2    0.9493  \n",
       "3    0.5256  \n",
       "4    0.8625  "
      ]
     },
     "execution_count": 7,
     "metadata": {},
     "output_type": "execute_result"
    }
   ],
   "source": [
    "tahini_df.head()"
   ]
  },
  {
   "cell_type": "code",
   "execution_count": 8,
   "metadata": {},
   "outputs": [],
   "source": [
    "tahini_df['sentiment'] = 0"
   ]
  },
  {
   "cell_type": "code",
   "execution_count": 9,
   "metadata": {},
   "outputs": [],
   "source": [
    "# assign a sentiment of 1 if the compound score\n",
    "# is >=0.75\n",
    "# else assign a sentiment of 0\n",
    "# set a compound \n",
    "tahini_df.loc[tahini_df.compound >=0.75, 'sentiment'] = 1"
   ]
  },
  {
   "cell_type": "code",
   "execution_count": 10,
   "metadata": {},
   "outputs": [
    {
     "data": {
      "text/html": [
       "<div>\n",
       "<style scoped>\n",
       "    .dataframe tbody tr th:only-of-type {\n",
       "        vertical-align: middle;\n",
       "    }\n",
       "\n",
       "    .dataframe tbody tr th {\n",
       "        vertical-align: top;\n",
       "    }\n",
       "\n",
       "    .dataframe thead th {\n",
       "        text-align: right;\n",
       "    }\n",
       "</style>\n",
       "<table border=\"1\" class=\"dataframe\">\n",
       "  <thead>\n",
       "    <tr style=\"text-align: right;\">\n",
       "      <th></th>\n",
       "      <th>userDisplayName</th>\n",
       "      <th>commentBody</th>\n",
       "      <th>review_clean</th>\n",
       "      <th>neg</th>\n",
       "      <th>neu</th>\n",
       "      <th>pos</th>\n",
       "      <th>compound</th>\n",
       "      <th>sentiment</th>\n",
       "    </tr>\n",
       "  </thead>\n",
       "  <tbody>\n",
       "    <tr>\n",
       "      <th>0</th>\n",
       "      <td>lmk</td>\n",
       "      <td>Yum.  These took much longer than 16 minutes t...</td>\n",
       "      <td>yum take much long minute cook i'm also denver...</td>\n",
       "      <td>0.050</td>\n",
       "      <td>0.834</td>\n",
       "      <td>0.116</td>\n",
       "      <td>0.5499</td>\n",
       "      <td>0</td>\n",
       "    </tr>\n",
       "    <tr>\n",
       "      <th>1</th>\n",
       "      <td>Sonya</td>\n",
       "      <td>If you follow the recipe as written the tahini...</td>\n",
       "      <td>follow recipe write tahini sesame flavour cook...</td>\n",
       "      <td>0.000</td>\n",
       "      <td>0.876</td>\n",
       "      <td>0.124</td>\n",
       "      <td>0.7501</td>\n",
       "      <td>1</td>\n",
       "    </tr>\n",
       "    <tr>\n",
       "      <th>2</th>\n",
       "      <td>KV</td>\n",
       "      <td>I have made these cookies 5 times. My advice i...</td>\n",
       "      <td>make cooky time advice everything recipe say d...</td>\n",
       "      <td>0.000</td>\n",
       "      <td>0.805</td>\n",
       "      <td>0.195</td>\n",
       "      <td>0.9493</td>\n",
       "      <td>1</td>\n",
       "    </tr>\n",
       "    <tr>\n",
       "      <th>3</th>\n",
       "      <td>MaryN</td>\n",
       "      <td>I liked this- the tahini is slightly more subt...</td>\n",
       "      <td>like tahini slightly subtle pb cookie combine ...</td>\n",
       "      <td>0.035</td>\n",
       "      <td>0.876</td>\n",
       "      <td>0.089</td>\n",
       "      <td>0.5256</td>\n",
       "      <td>0</td>\n",
       "    </tr>\n",
       "    <tr>\n",
       "      <th>4</th>\n",
       "      <td>Maggie B</td>\n",
       "      <td>Used Shaila M's tweaks. Baked first tray strai...</td>\n",
       "      <td>use shaila m's tweak bake first tray straight ...</td>\n",
       "      <td>0.000</td>\n",
       "      <td>0.817</td>\n",
       "      <td>0.183</td>\n",
       "      <td>0.8625</td>\n",
       "      <td>1</td>\n",
       "    </tr>\n",
       "  </tbody>\n",
       "</table>\n",
       "</div>"
      ],
      "text/plain": [
       "  userDisplayName                                        commentBody  \\\n",
       "0             lmk  Yum.  These took much longer than 16 minutes t...   \n",
       "1           Sonya  If you follow the recipe as written the tahini...   \n",
       "2              KV  I have made these cookies 5 times. My advice i...   \n",
       "3           MaryN  I liked this- the tahini is slightly more subt...   \n",
       "4        Maggie B  Used Shaila M's tweaks. Baked first tray strai...   \n",
       "\n",
       "                                        review_clean    neg    neu    pos  \\\n",
       "0  yum take much long minute cook i'm also denver...  0.050  0.834  0.116   \n",
       "1  follow recipe write tahini sesame flavour cook...  0.000  0.876  0.124   \n",
       "2  make cooky time advice everything recipe say d...  0.000  0.805  0.195   \n",
       "3  like tahini slightly subtle pb cookie combine ...  0.035  0.876  0.089   \n",
       "4  use shaila m's tweak bake first tray straight ...  0.000  0.817  0.183   \n",
       "\n",
       "   compound  sentiment  \n",
       "0    0.5499          0  \n",
       "1    0.7501          1  \n",
       "2    0.9493          1  \n",
       "3    0.5256          0  \n",
       "4    0.8625          1  "
      ]
     },
     "execution_count": 10,
     "metadata": {},
     "output_type": "execute_result"
    }
   ],
   "source": [
    "tahini_df.head()"
   ]
  },
  {
   "cell_type": "code",
   "execution_count": 24,
   "metadata": {},
   "outputs": [],
   "source": [
    "y_predicted = np.array(tahini_df.sentiment.values.tolist())"
   ]
  },
  {
   "cell_type": "code",
   "execution_count": 11,
   "metadata": {},
   "outputs": [
    {
     "data": {
      "text/plain": [
       "355"
      ]
     },
     "execution_count": 11,
     "metadata": {},
     "output_type": "execute_result"
    }
   ],
   "source": [
    "len(tahini_df)"
   ]
  },
  {
   "cell_type": "code",
   "execution_count": 13,
   "metadata": {},
   "outputs": [],
   "source": [
    "tahini_df_with_sentiment = pd.read_csv('salted-tahini-chocolate-chip-cookies-with-sentiment.csv')"
   ]
  },
  {
   "cell_type": "code",
   "execution_count": 14,
   "metadata": {},
   "outputs": [
    {
     "data": {
      "text/html": [
       "<div>\n",
       "<style scoped>\n",
       "    .dataframe tbody tr th:only-of-type {\n",
       "        vertical-align: middle;\n",
       "    }\n",
       "\n",
       "    .dataframe tbody tr th {\n",
       "        vertical-align: top;\n",
       "    }\n",
       "\n",
       "    .dataframe thead th {\n",
       "        text-align: right;\n",
       "    }\n",
       "</style>\n",
       "<table border=\"1\" class=\"dataframe\">\n",
       "  <thead>\n",
       "    <tr style=\"text-align: right;\">\n",
       "      <th></th>\n",
       "      <th>user</th>\n",
       "      <th>comment</th>\n",
       "      <th>sentiment</th>\n",
       "    </tr>\n",
       "  </thead>\n",
       "  <tbody>\n",
       "    <tr>\n",
       "      <th>0</th>\n",
       "      <td>lmk</td>\n",
       "      <td>Yum.  These took much longer than 16 minutes t...</td>\n",
       "      <td>pos</td>\n",
       "    </tr>\n",
       "    <tr>\n",
       "      <th>1</th>\n",
       "      <td>Sonya</td>\n",
       "      <td>If you follow the recipe as written the tahini...</td>\n",
       "      <td>pos</td>\n",
       "    </tr>\n",
       "    <tr>\n",
       "      <th>2</th>\n",
       "      <td>KV</td>\n",
       "      <td>I have made these cookies 5 times. My advice i...</td>\n",
       "      <td>pos</td>\n",
       "    </tr>\n",
       "    <tr>\n",
       "      <th>3</th>\n",
       "      <td>MaryN</td>\n",
       "      <td>I liked this- the tahini is slightly more subt...</td>\n",
       "      <td>pos</td>\n",
       "    </tr>\n",
       "    <tr>\n",
       "      <th>4</th>\n",
       "      <td>Maggie B</td>\n",
       "      <td>Used Shaila M's tweaks. Baked first tray strai...</td>\n",
       "      <td>pos</td>\n",
       "    </tr>\n",
       "  </tbody>\n",
       "</table>\n",
       "</div>"
      ],
      "text/plain": [
       "       user                                            comment sentiment\n",
       "0       lmk  Yum.  These took much longer than 16 minutes t...       pos\n",
       "1     Sonya  If you follow the recipe as written the tahini...       pos\n",
       "2        KV  I have made these cookies 5 times. My advice i...       pos\n",
       "3     MaryN  I liked this- the tahini is slightly more subt...       pos\n",
       "4  Maggie B  Used Shaila M's tweaks. Baked first tray strai...       pos"
      ]
     },
     "execution_count": 14,
     "metadata": {},
     "output_type": "execute_result"
    }
   ],
   "source": [
    "tahini_df_with_sentiment.head()"
   ]
  },
  {
   "cell_type": "code",
   "execution_count": 17,
   "metadata": {},
   "outputs": [
    {
     "data": {
      "text/html": [
       "<div>\n",
       "<style scoped>\n",
       "    .dataframe tbody tr th:only-of-type {\n",
       "        vertical-align: middle;\n",
       "    }\n",
       "\n",
       "    .dataframe tbody tr th {\n",
       "        vertical-align: top;\n",
       "    }\n",
       "\n",
       "    .dataframe thead th {\n",
       "        text-align: right;\n",
       "    }\n",
       "</style>\n",
       "<table border=\"1\" class=\"dataframe\">\n",
       "  <thead>\n",
       "    <tr style=\"text-align: right;\">\n",
       "      <th></th>\n",
       "      <th>user</th>\n",
       "      <th>comment</th>\n",
       "      <th>sentiment</th>\n",
       "      <th>sentiment_class</th>\n",
       "    </tr>\n",
       "  </thead>\n",
       "  <tbody>\n",
       "    <tr>\n",
       "      <th>0</th>\n",
       "      <td>lmk</td>\n",
       "      <td>Yum.  These took much longer than 16 minutes t...</td>\n",
       "      <td>pos</td>\n",
       "      <td>1</td>\n",
       "    </tr>\n",
       "    <tr>\n",
       "      <th>1</th>\n",
       "      <td>Sonya</td>\n",
       "      <td>If you follow the recipe as written the tahini...</td>\n",
       "      <td>pos</td>\n",
       "      <td>1</td>\n",
       "    </tr>\n",
       "    <tr>\n",
       "      <th>2</th>\n",
       "      <td>KV</td>\n",
       "      <td>I have made these cookies 5 times. My advice i...</td>\n",
       "      <td>pos</td>\n",
       "      <td>1</td>\n",
       "    </tr>\n",
       "    <tr>\n",
       "      <th>3</th>\n",
       "      <td>MaryN</td>\n",
       "      <td>I liked this- the tahini is slightly more subt...</td>\n",
       "      <td>pos</td>\n",
       "      <td>1</td>\n",
       "    </tr>\n",
       "    <tr>\n",
       "      <th>4</th>\n",
       "      <td>Maggie B</td>\n",
       "      <td>Used Shaila M's tweaks. Baked first tray strai...</td>\n",
       "      <td>pos</td>\n",
       "      <td>1</td>\n",
       "    </tr>\n",
       "  </tbody>\n",
       "</table>\n",
       "</div>"
      ],
      "text/plain": [
       "       user                                            comment sentiment  \\\n",
       "0       lmk  Yum.  These took much longer than 16 minutes t...       pos   \n",
       "1     Sonya  If you follow the recipe as written the tahini...       pos   \n",
       "2        KV  I have made these cookies 5 times. My advice i...       pos   \n",
       "3     MaryN  I liked this- the tahini is slightly more subt...       pos   \n",
       "4  Maggie B  Used Shaila M's tweaks. Baked first tray strai...       pos   \n",
       "\n",
       "   sentiment_class  \n",
       "0                1  \n",
       "1                1  \n",
       "2                1  \n",
       "3                1  \n",
       "4                1  "
      ]
     },
     "execution_count": 17,
     "metadata": {},
     "output_type": "execute_result"
    }
   ],
   "source": [
    "tahini_df_with_sentiment['sentiment_class'] = 0\n",
    "tahini_df_with_sentiment.loc[tahini_df_with_sentiment['sentiment']=='pos', 'sentiment_class'] = 1\n",
    "tahini_df_with_sentiment.head()"
   ]
  },
  {
   "cell_type": "code",
   "execution_count": 18,
   "metadata": {},
   "outputs": [
    {
     "data": {
      "text/plain": [
       "355"
      ]
     },
     "execution_count": 18,
     "metadata": {},
     "output_type": "execute_result"
    }
   ],
   "source": [
    "len(tahini_df_with_sentiment)"
   ]
  },
  {
   "cell_type": "code",
   "execution_count": 22,
   "metadata": {},
   "outputs": [],
   "source": [
    "y_actual = np.array(tahini_df_with_sentiment.sentiment_class.values.tolist())"
   ]
  },
  {
   "cell_type": "code",
   "execution_count": 23,
   "metadata": {},
   "outputs": [],
   "source": [
    "from sklearn.metrics import accuracy_score, roc_auc_score"
   ]
  },
  {
   "cell_type": "code",
   "execution_count": 25,
   "metadata": {},
   "outputs": [
    {
     "data": {
      "text/plain": [
       "0.647887323943662"
      ]
     },
     "execution_count": 25,
     "metadata": {},
     "output_type": "execute_result"
    }
   ],
   "source": [
    "accuracy_score(y_actual, y_predicted)"
   ]
  },
  {
   "cell_type": "code",
   "execution_count": 27,
   "metadata": {},
   "outputs": [
    {
     "data": {
      "text/plain": [
       "0.7083060347965349"
      ]
     },
     "execution_count": 27,
     "metadata": {},
     "output_type": "execute_result"
    }
   ],
   "source": [
    "roc_auc_score(y_actual, y_predicted)"
   ]
  },
  {
   "cell_type": "code",
   "execution_count": null,
   "metadata": {},
   "outputs": [],
   "source": []
  }
 ],
 "metadata": {
  "kernelspec": {
   "display_name": "Python 3",
   "language": "python",
   "name": "python3"
  },
  "language_info": {
   "codemirror_mode": {
    "name": "ipython",
    "version": 3
   },
   "file_extension": ".py",
   "mimetype": "text/x-python",
   "name": "python",
   "nbconvert_exporter": "python",
   "pygments_lexer": "ipython3",
   "version": "3.7.6"
  }
 },
 "nbformat": 4,
 "nbformat_minor": 4
}
