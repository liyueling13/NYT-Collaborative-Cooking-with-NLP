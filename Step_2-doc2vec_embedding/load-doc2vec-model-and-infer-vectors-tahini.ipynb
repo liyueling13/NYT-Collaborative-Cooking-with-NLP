{
 "cells": [
  {
   "cell_type": "code",
   "execution_count": 1,
   "metadata": {},
   "outputs": [],
   "source": [
    "import gensim"
   ]
  },
  {
   "cell_type": "code",
   "execution_count": 2,
   "metadata": {},
   "outputs": [],
   "source": [
    "from gensim.models.doc2vec import Doc2Vec"
   ]
  },
  {
   "cell_type": "code",
   "execution_count": 3,
   "metadata": {},
   "outputs": [],
   "source": [
    "# loads our pretrained Doc2Vec model that was trained on text8 data\n",
    "model = Doc2Vec.load('./text8_doc2vec.model')"
   ]
  },
  {
   "cell_type": "code",
   "execution_count": 4,
   "metadata": {},
   "outputs": [],
   "source": [
    "import pandas as pd\n",
    "import numpy as np"
   ]
  },
  {
   "cell_type": "code",
   "execution_count": 5,
   "metadata": {},
   "outputs": [
    {
     "data": {
      "text/html": [
       "<div>\n",
       "<style scoped>\n",
       "    .dataframe tbody tr th:only-of-type {\n",
       "        vertical-align: middle;\n",
       "    }\n",
       "\n",
       "    .dataframe tbody tr th {\n",
       "        vertical-align: top;\n",
       "    }\n",
       "\n",
       "    .dataframe thead th {\n",
       "        text-align: right;\n",
       "    }\n",
       "</style>\n",
       "<table border=\"1\" class=\"dataframe\">\n",
       "  <thead>\n",
       "    <tr style=\"text-align: right;\">\n",
       "      <th></th>\n",
       "      <th>userDisplayName</th>\n",
       "      <th>commentBody</th>\n",
       "    </tr>\n",
       "  </thead>\n",
       "  <tbody>\n",
       "    <tr>\n",
       "      <th>353</th>\n",
       "      <td>C PAULL</td>\n",
       "      <td>RE: TAHINI Sauce or paste???</td>\n",
       "    </tr>\n",
       "    <tr>\n",
       "      <th>320</th>\n",
       "      <td>Monique</td>\n",
       "      <td>I did half light brown sugar and half granulat...</td>\n",
       "    </tr>\n",
       "    <tr>\n",
       "      <th>281</th>\n",
       "      <td>Joy</td>\n",
       "      <td>My new favorite!</td>\n",
       "    </tr>\n",
       "    <tr>\n",
       "      <th>222</th>\n",
       "      <td>Birgit</td>\n",
       "      <td>I am not good at delayed gratification and put...</td>\n",
       "    </tr>\n",
       "    <tr>\n",
       "      <th>23</th>\n",
       "      <td>Rachel</td>\n",
       "      <td>Made exactly as recipe instructs and they are ...</td>\n",
       "    </tr>\n",
       "    <tr>\n",
       "      <th>209</th>\n",
       "      <td>bobbie</td>\n",
       "      <td>I’ve made these several times and they are a h...</td>\n",
       "    </tr>\n",
       "    <tr>\n",
       "      <th>61</th>\n",
       "      <td>Malia</td>\n",
       "      <td>I've tried with refrigerated dough and non-ref...</td>\n",
       "    </tr>\n",
       "    <tr>\n",
       "      <th>342</th>\n",
       "      <td>candace</td>\n",
       "      <td>Used bittersweet disks (fevres) to get that la...</td>\n",
       "    </tr>\n",
       "    <tr>\n",
       "      <th>238</th>\n",
       "      <td>Amelia</td>\n",
       "      <td>Any recommendations for doubling or tripling t...</td>\n",
       "    </tr>\n",
       "    <tr>\n",
       "      <th>204</th>\n",
       "      <td>Susan Margaret</td>\n",
       "      <td>Forgot to add - in my half recipe, used only 1...</td>\n",
       "    </tr>\n",
       "  </tbody>\n",
       "</table>\n",
       "</div>"
      ],
      "text/plain": [
       "    userDisplayName                                        commentBody\n",
       "353         C PAULL                       RE: TAHINI Sauce or paste???\n",
       "320         Monique  I did half light brown sugar and half granulat...\n",
       "281             Joy                                   My new favorite!\n",
       "222          Birgit  I am not good at delayed gratification and put...\n",
       "23           Rachel  Made exactly as recipe instructs and they are ...\n",
       "209         bobbie   I’ve made these several times and they are a h...\n",
       "61            Malia  I've tried with refrigerated dough and non-ref...\n",
       "342         candace  Used bittersweet disks (fevres) to get that la...\n",
       "238          Amelia  Any recommendations for doubling or tripling t...\n",
       "204  Susan Margaret  Forgot to add - in my half recipe, used only 1..."
      ]
     },
     "execution_count": 5,
     "metadata": {},
     "output_type": "execute_result"
    }
   ],
   "source": [
    "tahini_dataframe = pd.read_csv(\"salted-tahini-chocolate-chip-cookies.csv\")\n",
    "tahini_df = tahini_dataframe.copy()\n",
    "tahini_df.sample(n=10)"
   ]
  },
  {
   "cell_type": "code",
   "execution_count": 6,
   "metadata": {},
   "outputs": [
    {
     "data": {
      "text/plain": [
       "\"If you follow the recipe as written the tahini (sesame) flavour in the cookies is VERY subtle. If I didn't know it was there, I wouldn't have tasted it- I got the same feedback from the people I shared the cookies with. That being said they are still absolutely delicious cookies...\""
      ]
     },
     "execution_count": 6,
     "metadata": {},
     "output_type": "execute_result"
    }
   ],
   "source": [
    "type(tahini_df.commentBody.values)\n",
    "comments = [val for val in tahini_df.commentBody.values]\n",
    "comments[1]"
   ]
  },
  {
   "cell_type": "code",
   "execution_count": 7,
   "metadata": {},
   "outputs": [],
   "source": [
    "tokenizedComments = [gensim.utils.simple_preprocess(comment) for comment in tahini_df.commentBody.values]"
   ]
  },
  {
   "cell_type": "code",
   "execution_count": 8,
   "metadata": {},
   "outputs": [],
   "source": [
    "tahini_df['tokenizedComments'] = tokenizedComments"
   ]
  },
  {
   "cell_type": "code",
   "execution_count": 9,
   "metadata": {},
   "outputs": [],
   "source": [
    "embedding_vectors = [model.infer_vector(tokenized_comment) for tokenized_comment in tokenizedComments]"
   ]
  },
  {
   "cell_type": "code",
   "execution_count": 10,
   "metadata": {},
   "outputs": [],
   "source": [
    "tahini_df['embeddingVector'] = embedding_vectors"
   ]
  },
  {
   "cell_type": "code",
   "execution_count": 11,
   "metadata": {},
   "outputs": [
    {
     "data": {
      "text/html": [
       "<div>\n",
       "<style scoped>\n",
       "    .dataframe tbody tr th:only-of-type {\n",
       "        vertical-align: middle;\n",
       "    }\n",
       "\n",
       "    .dataframe tbody tr th {\n",
       "        vertical-align: top;\n",
       "    }\n",
       "\n",
       "    .dataframe thead th {\n",
       "        text-align: right;\n",
       "    }\n",
       "</style>\n",
       "<table border=\"1\" class=\"dataframe\">\n",
       "  <thead>\n",
       "    <tr style=\"text-align: right;\">\n",
       "      <th></th>\n",
       "      <th>userDisplayName</th>\n",
       "      <th>commentBody</th>\n",
       "      <th>tokenizedComments</th>\n",
       "      <th>embeddingVector</th>\n",
       "    </tr>\n",
       "  </thead>\n",
       "  <tbody>\n",
       "    <tr>\n",
       "      <th>0</th>\n",
       "      <td>lmk</td>\n",
       "      <td>Yum.  These took much longer than 16 minutes t...</td>\n",
       "      <td>[yum, these, took, much, longer, than, minutes...</td>\n",
       "      <td>[0.0004488138, -0.045840066, 0.102571115, -0.0...</td>\n",
       "    </tr>\n",
       "    <tr>\n",
       "      <th>1</th>\n",
       "      <td>Sonya</td>\n",
       "      <td>If you follow the recipe as written the tahini...</td>\n",
       "      <td>[if, you, follow, the, recipe, as, written, th...</td>\n",
       "      <td>[0.040423755, -0.024631219, 0.024978103, 0.017...</td>\n",
       "    </tr>\n",
       "    <tr>\n",
       "      <th>2</th>\n",
       "      <td>KV</td>\n",
       "      <td>I have made these cookies 5 times. My advice i...</td>\n",
       "      <td>[have, made, these, cookies, times, my, advice...</td>\n",
       "      <td>[-0.061959203, -0.07427564, 0.18542972, 0.0682...</td>\n",
       "    </tr>\n",
       "    <tr>\n",
       "      <th>3</th>\n",
       "      <td>MaryN</td>\n",
       "      <td>I liked this- the tahini is slightly more subt...</td>\n",
       "      <td>[liked, this, the, tahini, is, slightly, more,...</td>\n",
       "      <td>[0.028625507, -0.0010620868, 0.019741133, 0.00...</td>\n",
       "    </tr>\n",
       "    <tr>\n",
       "      <th>4</th>\n",
       "      <td>Maggie B</td>\n",
       "      <td>Used Shaila M's tweaks. Baked first tray strai...</td>\n",
       "      <td>[used, shaila, tweaks, baked, first, tray, str...</td>\n",
       "      <td>[-0.005531467, 0.02052981, 0.11236322, -0.0244...</td>\n",
       "    </tr>\n",
       "  </tbody>\n",
       "</table>\n",
       "</div>"
      ],
      "text/plain": [
       "  userDisplayName                                        commentBody  \\\n",
       "0             lmk  Yum.  These took much longer than 16 minutes t...   \n",
       "1           Sonya  If you follow the recipe as written the tahini...   \n",
       "2              KV  I have made these cookies 5 times. My advice i...   \n",
       "3           MaryN  I liked this- the tahini is slightly more subt...   \n",
       "4        Maggie B  Used Shaila M's tweaks. Baked first tray strai...   \n",
       "\n",
       "                                   tokenizedComments  \\\n",
       "0  [yum, these, took, much, longer, than, minutes...   \n",
       "1  [if, you, follow, the, recipe, as, written, th...   \n",
       "2  [have, made, these, cookies, times, my, advice...   \n",
       "3  [liked, this, the, tahini, is, slightly, more,...   \n",
       "4  [used, shaila, tweaks, baked, first, tray, str...   \n",
       "\n",
       "                                     embeddingVector  \n",
       "0  [0.0004488138, -0.045840066, 0.102571115, -0.0...  \n",
       "1  [0.040423755, -0.024631219, 0.024978103, 0.017...  \n",
       "2  [-0.061959203, -0.07427564, 0.18542972, 0.0682...  \n",
       "3  [0.028625507, -0.0010620868, 0.019741133, 0.00...  \n",
       "4  [-0.005531467, 0.02052981, 0.11236322, -0.0244...  "
      ]
     },
     "execution_count": 11,
     "metadata": {},
     "output_type": "execute_result"
    }
   ],
   "source": [
    "tahini_df.head()"
   ]
  },
  {
   "cell_type": "code",
   "execution_count": null,
   "metadata": {},
   "outputs": [],
   "source": []
  }
 ],
 "metadata": {
  "kernelspec": {
   "display_name": "Python 3",
   "language": "python",
   "name": "python3"
  },
  "language_info": {
   "codemirror_mode": {
    "name": "ipython",
    "version": 3
   },
   "file_extension": ".py",
   "mimetype": "text/x-python",
   "name": "python",
   "nbconvert_exporter": "python",
   "pygments_lexer": "ipython3",
   "version": "3.7.6"
  }
 },
 "nbformat": 4,
 "nbformat_minor": 4
}
