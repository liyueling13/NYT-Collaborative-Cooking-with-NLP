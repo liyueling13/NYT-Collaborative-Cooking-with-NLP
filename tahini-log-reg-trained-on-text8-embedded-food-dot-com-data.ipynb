{
 "cells": [
  {
   "cell_type": "markdown",
   "metadata": {},
   "source": [
    "Goal: train a logistic regression model for predicting sentiment on food.com reviews. \n",
    "We use logistic regression for a binary classification, where negative/neutral comments are encoded as $0$ and positive comments are encoded as $1$. Then we'll use the model to predict sentiments of our embedded tahini data.\n",
    "\n",
    "\n",
    "Recall that regression algorithms are usually used to predict continuous outcomes, but binary classification is in not continuous. Logisitic regression -- instead of modeling the output class-- cleverly models the probability that a particular data point is an instance of class $1$."
   ]
  },
  {
   "cell_type": "code",
   "execution_count": 1,
   "metadata": {},
   "outputs": [],
   "source": [
    "import pandas as pd\n",
    "import numpy as np\n",
    "import matplotlib.pyplot as plt"
   ]
  },
  {
   "cell_type": "code",
   "execution_count": 2,
   "metadata": {},
   "outputs": [],
   "source": [
    "import gensim\n",
    "from gensim.models.doc2vec import Doc2Vec"
   ]
  },
  {
   "cell_type": "code",
   "execution_count": 3,
   "metadata": {},
   "outputs": [],
   "source": [
    "from sklearn.linear_model import LogisticRegression\n",
    "from sklearn.metrics import accuracy_score, confusion_matrix #, classification_report\n",
    "# from sklearn.model_selection import train_test_split\n",
    "from sklearn.preprocessing import StandardScaler"
   ]
  },
  {
   "cell_type": "markdown",
   "metadata": {},
   "source": [
    "Will embed each of the comments as a single (300-dimensional) vector using the pretrained doc2vec model and then pass the vectorized review ($X$) with its sentiment $y$ -- where a sentiment is either a 1 or 0. "
   ]
  },
  {
   "cell_type": "code",
   "execution_count": 4,
   "metadata": {},
   "outputs": [],
   "source": [
    "# loads the pretrained model\n",
    "embedding_model = Doc2Vec.load('./text8_doc2vec.model')"
   ]
  },
  {
   "cell_type": "code",
   "execution_count": 5,
   "metadata": {},
   "outputs": [
    {
     "name": "stdout",
     "output_type": "stream",
     "text": [
      "CPU times: user 8.48 s, sys: 1.56 s, total: 10 s\n",
      "Wall time: 30.6 s\n"
     ]
    }
   ],
   "source": [
    "%%time\n",
    "food_dataframe = pd.read_csv(\"reviews.csv\", encoding='utf8')#, low_memory=False)\n",
    "food_df = food_dataframe.copy()\n"
   ]
  },
  {
   "cell_type": "code",
   "execution_count": 6,
   "metadata": {},
   "outputs": [
    {
     "data": {
      "text/html": [
       "<div>\n",
       "<style scoped>\n",
       "    .dataframe tbody tr th:only-of-type {\n",
       "        vertical-align: middle;\n",
       "    }\n",
       "\n",
       "    .dataframe tbody tr th {\n",
       "        vertical-align: top;\n",
       "    }\n",
       "\n",
       "    .dataframe thead th {\n",
       "        text-align: right;\n",
       "    }\n",
       "</style>\n",
       "<table border=\"1\" class=\"dataframe\">\n",
       "  <thead>\n",
       "    <tr style=\"text-align: right;\">\n",
       "      <th></th>\n",
       "      <th>ReviewId</th>\n",
       "      <th>RecipeId</th>\n",
       "      <th>AuthorId</th>\n",
       "      <th>AuthorName</th>\n",
       "      <th>Rating</th>\n",
       "      <th>Review</th>\n",
       "      <th>DateSubmitted</th>\n",
       "      <th>DateModified</th>\n",
       "    </tr>\n",
       "  </thead>\n",
       "  <tbody>\n",
       "    <tr>\n",
       "      <th>0</th>\n",
       "      <td>2</td>\n",
       "      <td>992</td>\n",
       "      <td>2008</td>\n",
       "      <td>gayg msft</td>\n",
       "      <td>5</td>\n",
       "      <td>better than any you can get at a restaurant!</td>\n",
       "      <td>2000-01-25T21:44:00Z</td>\n",
       "      <td>2000-01-25T21:44:00Z</td>\n",
       "    </tr>\n",
       "    <tr>\n",
       "      <th>1</th>\n",
       "      <td>7</td>\n",
       "      <td>4384</td>\n",
       "      <td>1634</td>\n",
       "      <td>Bill Hilbrich</td>\n",
       "      <td>4</td>\n",
       "      <td>I cut back on the mayo, and made up the differ...</td>\n",
       "      <td>2001-10-17T16:49:59Z</td>\n",
       "      <td>2001-10-17T16:49:59Z</td>\n",
       "    </tr>\n",
       "    <tr>\n",
       "      <th>2</th>\n",
       "      <td>9</td>\n",
       "      <td>4523</td>\n",
       "      <td>2046</td>\n",
       "      <td>Gay Gilmore ckpt</td>\n",
       "      <td>2</td>\n",
       "      <td>i think i did something wrong because i could ...</td>\n",
       "      <td>2000-02-25T09:00:00Z</td>\n",
       "      <td>2000-02-25T09:00:00Z</td>\n",
       "    </tr>\n",
       "    <tr>\n",
       "      <th>3</th>\n",
       "      <td>13</td>\n",
       "      <td>7435</td>\n",
       "      <td>1773</td>\n",
       "      <td>Malarkey Test</td>\n",
       "      <td>5</td>\n",
       "      <td>easily the best i have ever had.  juicy flavor...</td>\n",
       "      <td>2000-03-13T21:15:00Z</td>\n",
       "      <td>2000-03-13T21:15:00Z</td>\n",
       "    </tr>\n",
       "    <tr>\n",
       "      <th>4</th>\n",
       "      <td>14</td>\n",
       "      <td>44</td>\n",
       "      <td>2085</td>\n",
       "      <td>Tony Small</td>\n",
       "      <td>5</td>\n",
       "      <td>An excellent dish.</td>\n",
       "      <td>2000-03-28T12:51:00Z</td>\n",
       "      <td>2000-03-28T12:51:00Z</td>\n",
       "    </tr>\n",
       "  </tbody>\n",
       "</table>\n",
       "</div>"
      ],
      "text/plain": [
       "   ReviewId  RecipeId  AuthorId        AuthorName  Rating  \\\n",
       "0         2       992      2008         gayg msft       5   \n",
       "1         7      4384      1634     Bill Hilbrich       4   \n",
       "2         9      4523      2046  Gay Gilmore ckpt       2   \n",
       "3        13      7435      1773     Malarkey Test       5   \n",
       "4        14        44      2085        Tony Small       5   \n",
       "\n",
       "                                              Review         DateSubmitted  \\\n",
       "0       better than any you can get at a restaurant!  2000-01-25T21:44:00Z   \n",
       "1  I cut back on the mayo, and made up the differ...  2001-10-17T16:49:59Z   \n",
       "2  i think i did something wrong because i could ...  2000-02-25T09:00:00Z   \n",
       "3  easily the best i have ever had.  juicy flavor...  2000-03-13T21:15:00Z   \n",
       "4                                 An excellent dish.  2000-03-28T12:51:00Z   \n",
       "\n",
       "           DateModified  \n",
       "0  2000-01-25T21:44:00Z  \n",
       "1  2001-10-17T16:49:59Z  \n",
       "2  2000-02-25T09:00:00Z  \n",
       "3  2000-03-13T21:15:00Z  \n",
       "4  2000-03-28T12:51:00Z  "
      ]
     },
     "execution_count": 6,
     "metadata": {},
     "output_type": "execute_result"
    }
   ],
   "source": [
    "food_df.head()"
   ]
  },
  {
   "cell_type": "code",
   "execution_count": 7,
   "metadata": {},
   "outputs": [
    {
     "name": "stdout",
     "output_type": "stream",
     "text": [
      "Before any processing, there are 1401982 reviews.\n"
     ]
    }
   ],
   "source": [
    "print(\"Before any processing, there are\", len(food_df), \"reviews.\")"
   ]
  },
  {
   "cell_type": "code",
   "execution_count": 8,
   "metadata": {},
   "outputs": [
    {
     "data": {
      "text/html": [
       "<div>\n",
       "<style scoped>\n",
       "    .dataframe tbody tr th:only-of-type {\n",
       "        vertical-align: middle;\n",
       "    }\n",
       "\n",
       "    .dataframe tbody tr th {\n",
       "        vertical-align: top;\n",
       "    }\n",
       "\n",
       "    .dataframe thead th {\n",
       "        text-align: right;\n",
       "    }\n",
       "</style>\n",
       "<table border=\"1\" class=\"dataframe\">\n",
       "  <thead>\n",
       "    <tr style=\"text-align: right;\">\n",
       "      <th></th>\n",
       "      <th>AuthorId</th>\n",
       "      <th>AuthorName</th>\n",
       "      <th>Rating</th>\n",
       "      <th>Review</th>\n",
       "    </tr>\n",
       "  </thead>\n",
       "  <tbody>\n",
       "    <tr>\n",
       "      <th>0</th>\n",
       "      <td>2008</td>\n",
       "      <td>gayg msft</td>\n",
       "      <td>5</td>\n",
       "      <td>better than any you can get at a restaurant!</td>\n",
       "    </tr>\n",
       "    <tr>\n",
       "      <th>1</th>\n",
       "      <td>1634</td>\n",
       "      <td>Bill Hilbrich</td>\n",
       "      <td>4</td>\n",
       "      <td>I cut back on the mayo, and made up the differ...</td>\n",
       "    </tr>\n",
       "    <tr>\n",
       "      <th>2</th>\n",
       "      <td>2046</td>\n",
       "      <td>Gay Gilmore ckpt</td>\n",
       "      <td>2</td>\n",
       "      <td>i think i did something wrong because i could ...</td>\n",
       "    </tr>\n",
       "    <tr>\n",
       "      <th>3</th>\n",
       "      <td>1773</td>\n",
       "      <td>Malarkey Test</td>\n",
       "      <td>5</td>\n",
       "      <td>easily the best i have ever had.  juicy flavor...</td>\n",
       "    </tr>\n",
       "    <tr>\n",
       "      <th>4</th>\n",
       "      <td>2085</td>\n",
       "      <td>Tony Small</td>\n",
       "      <td>5</td>\n",
       "      <td>An excellent dish.</td>\n",
       "    </tr>\n",
       "  </tbody>\n",
       "</table>\n",
       "</div>"
      ],
      "text/plain": [
       "   AuthorId        AuthorName  Rating  \\\n",
       "0      2008         gayg msft       5   \n",
       "1      1634     Bill Hilbrich       4   \n",
       "2      2046  Gay Gilmore ckpt       2   \n",
       "3      1773     Malarkey Test       5   \n",
       "4      2085        Tony Small       5   \n",
       "\n",
       "                                              Review  \n",
       "0       better than any you can get at a restaurant!  \n",
       "1  I cut back on the mayo, and made up the differ...  \n",
       "2  i think i did something wrong because i could ...  \n",
       "3  easily the best i have ever had.  juicy flavor...  \n",
       "4                                 An excellent dish.  "
      ]
     },
     "execution_count": 8,
     "metadata": {},
     "output_type": "execute_result"
    }
   ],
   "source": [
    "food_df = food_df[['AuthorId', 'AuthorName', 'Rating', 'Review']]\n",
    "food_df = food_df[food_df.Rating != 0].reset_index(drop = True)\n",
    "food_df.dropna(inplace=True)\n",
    "food_df.head()"
   ]
  },
  {
   "cell_type": "code",
   "execution_count": 9,
   "metadata": {},
   "outputs": [
    {
     "name": "stdout",
     "output_type": "stream",
     "text": [
      "There are 1325520 after dropping empty reviews and reviews with no ratings.\n"
     ]
    }
   ],
   "source": [
    "print(\"There are\", len(food_df), \"after dropping empty reviews and reviews with no ratings.\")"
   ]
  },
  {
   "cell_type": "code",
   "execution_count": 10,
   "metadata": {},
   "outputs": [
    {
     "data": {
      "text/plain": [
       "array([5, 4, 2, 1, 3])"
      ]
     },
     "execution_count": 10,
     "metadata": {},
     "output_type": "execute_result"
    }
   ],
   "source": [
    "food_df.Rating.unique()"
   ]
  },
  {
   "cell_type": "code",
   "execution_count": 11,
   "metadata": {},
   "outputs": [
    {
     "data": {
      "text/html": [
       "<div>\n",
       "<style scoped>\n",
       "    .dataframe tbody tr th:only-of-type {\n",
       "        vertical-align: middle;\n",
       "    }\n",
       "\n",
       "    .dataframe tbody tr th {\n",
       "        vertical-align: top;\n",
       "    }\n",
       "\n",
       "    .dataframe thead th {\n",
       "        text-align: right;\n",
       "    }\n",
       "</style>\n",
       "<table border=\"1\" class=\"dataframe\">\n",
       "  <thead>\n",
       "    <tr style=\"text-align: right;\">\n",
       "      <th></th>\n",
       "      <th>AuthorId</th>\n",
       "      <th>AuthorName</th>\n",
       "      <th>Rating</th>\n",
       "      <th>Review</th>\n",
       "      <th>Sentiment</th>\n",
       "    </tr>\n",
       "  </thead>\n",
       "  <tbody>\n",
       "    <tr>\n",
       "      <th>0</th>\n",
       "      <td>2008</td>\n",
       "      <td>gayg msft</td>\n",
       "      <td>5</td>\n",
       "      <td>better than any you can get at a restaurant!</td>\n",
       "      <td>1</td>\n",
       "    </tr>\n",
       "    <tr>\n",
       "      <th>1</th>\n",
       "      <td>1634</td>\n",
       "      <td>Bill Hilbrich</td>\n",
       "      <td>4</td>\n",
       "      <td>I cut back on the mayo, and made up the differ...</td>\n",
       "      <td>1</td>\n",
       "    </tr>\n",
       "    <tr>\n",
       "      <th>2</th>\n",
       "      <td>2046</td>\n",
       "      <td>Gay Gilmore ckpt</td>\n",
       "      <td>2</td>\n",
       "      <td>i think i did something wrong because i could ...</td>\n",
       "      <td>0</td>\n",
       "    </tr>\n",
       "    <tr>\n",
       "      <th>3</th>\n",
       "      <td>1773</td>\n",
       "      <td>Malarkey Test</td>\n",
       "      <td>5</td>\n",
       "      <td>easily the best i have ever had.  juicy flavor...</td>\n",
       "      <td>1</td>\n",
       "    </tr>\n",
       "    <tr>\n",
       "      <th>4</th>\n",
       "      <td>2085</td>\n",
       "      <td>Tony Small</td>\n",
       "      <td>5</td>\n",
       "      <td>An excellent dish.</td>\n",
       "      <td>1</td>\n",
       "    </tr>\n",
       "  </tbody>\n",
       "</table>\n",
       "</div>"
      ],
      "text/plain": [
       "   AuthorId        AuthorName  Rating  \\\n",
       "0      2008         gayg msft       5   \n",
       "1      1634     Bill Hilbrich       4   \n",
       "2      2046  Gay Gilmore ckpt       2   \n",
       "3      1773     Malarkey Test       5   \n",
       "4      2085        Tony Small       5   \n",
       "\n",
       "                                              Review  Sentiment  \n",
       "0       better than any you can get at a restaurant!          1  \n",
       "1  I cut back on the mayo, and made up the differ...          1  \n",
       "2  i think i did something wrong because i could ...          0  \n",
       "3  easily the best i have ever had.  juicy flavor...          1  \n",
       "4                                 An excellent dish.          1  "
      ]
     },
     "execution_count": 11,
     "metadata": {},
     "output_type": "execute_result"
    }
   ],
   "source": [
    "# we will attribute a Sentiment 1 if author reported rating of 3 or higher\n",
    "# and a Sentiment 0 if author reported rating of less than 3\n",
    "food_df['Sentiment'] = 0\n",
    "food_df.loc[food_df.Rating >= 3, 'Sentiment'] = 1\n",
    "food_df.head()"
   ]
  },
  {
   "cell_type": "markdown",
   "metadata": {},
   "source": [
    "My embedding takes one hundred thousand years on the entire food.com data set, so I'm going to train on a smaller sample until I can figure out how to speed up the process..."
   ]
  },
  {
   "cell_type": "code",
   "execution_count": 12,
   "metadata": {},
   "outputs": [
    {
     "data": {
      "text/html": [
       "<div>\n",
       "<style scoped>\n",
       "    .dataframe tbody tr th:only-of-type {\n",
       "        vertical-align: middle;\n",
       "    }\n",
       "\n",
       "    .dataframe tbody tr th {\n",
       "        vertical-align: top;\n",
       "    }\n",
       "\n",
       "    .dataframe thead th {\n",
       "        text-align: right;\n",
       "    }\n",
       "</style>\n",
       "<table border=\"1\" class=\"dataframe\">\n",
       "  <thead>\n",
       "    <tr style=\"text-align: right;\">\n",
       "      <th></th>\n",
       "      <th>Review</th>\n",
       "      <th>Sentiment</th>\n",
       "    </tr>\n",
       "  </thead>\n",
       "  <tbody>\n",
       "    <tr>\n",
       "      <th>0</th>\n",
       "      <td>better than any you can get at a restaurant!</td>\n",
       "      <td>1</td>\n",
       "    </tr>\n",
       "    <tr>\n",
       "      <th>1</th>\n",
       "      <td>I cut back on the mayo, and made up the differ...</td>\n",
       "      <td>1</td>\n",
       "    </tr>\n",
       "    <tr>\n",
       "      <th>2</th>\n",
       "      <td>i think i did something wrong because i could ...</td>\n",
       "      <td>0</td>\n",
       "    </tr>\n",
       "    <tr>\n",
       "      <th>3</th>\n",
       "      <td>easily the best i have ever had.  juicy flavor...</td>\n",
       "      <td>1</td>\n",
       "    </tr>\n",
       "    <tr>\n",
       "      <th>4</th>\n",
       "      <td>An excellent dish.</td>\n",
       "      <td>1</td>\n",
       "    </tr>\n",
       "  </tbody>\n",
       "</table>\n",
       "</div>"
      ],
      "text/plain": [
       "                                              Review  Sentiment\n",
       "0       better than any you can get at a restaurant!          1\n",
       "1  I cut back on the mayo, and made up the differ...          1\n",
       "2  i think i did something wrong because i could ...          0\n",
       "3  easily the best i have ever had.  juicy flavor...          1\n",
       "4                                 An excellent dish.          1"
      ]
     },
     "execution_count": 12,
     "metadata": {},
     "output_type": "execute_result"
    }
   ],
   "source": [
    "#only keep relevant parts of the food_df\n",
    "df = food_df[['Review','Sentiment']]\n",
    "df.head()"
   ]
  },
  {
   "cell_type": "code",
   "execution_count": 13,
   "metadata": {},
   "outputs": [
    {
     "data": {
      "text/plain": [
       "26510"
      ]
     },
     "execution_count": 13,
     "metadata": {},
     "output_type": "execute_result"
    }
   ],
   "source": [
    "# probably can increase the size of this, \n",
    "# the embedding took about 2 mins for a sample frac=.02 of the food.com data\n",
    "df = df.sample(frac=.02, replace=True, random_state=1)\n",
    "len(df)"
   ]
  },
  {
   "cell_type": "code",
   "execution_count": 14,
   "metadata": {},
   "outputs": [
    {
     "name": "stdout",
     "output_type": "stream",
     "text": [
      "CPU times: user 2.32 s, sys: 88.3 ms, total: 2.41 s\n",
      "Wall time: 7.05 s\n"
     ]
    }
   ],
   "source": [
    "%%time\n",
    "tokenizedReviews = [gensim.utils.simple_preprocess(comment) for comment in df.Review.values]\n"
   ]
  },
  {
   "cell_type": "code",
   "execution_count": 15,
   "metadata": {},
   "outputs": [
    {
     "name": "stdout",
     "output_type": "stream",
     "text": [
      "CPU times: user 42.3 s, sys: 1.37 s, total: 43.7 s\n",
      "Wall time: 2min 8s\n"
     ]
    }
   ],
   "source": [
    "%%time\n",
    "embedding_vectors = [embedding_model.infer_vector(tokenized_review) for tokenized_review in tokenizedReviews]\n"
   ]
  },
  {
   "cell_type": "code",
   "execution_count": 16,
   "metadata": {},
   "outputs": [],
   "source": [
    "df['embeddingVector'] = embedding_vectors\n",
    "# df.head()"
   ]
  },
  {
   "cell_type": "code",
   "execution_count": 17,
   "metadata": {},
   "outputs": [
    {
     "name": "stdout",
     "output_type": "stream",
     "text": [
      "There are 25881 positive reviews and 629 negative reviews in the sample of  26510 reviews.\n"
     ]
    }
   ],
   "source": [
    "# split the data set into positive and negative reviews\n",
    "df_positive = df.loc[df['Sentiment']==1]\n",
    "df_negative = df.loc[df['Sentiment']==0]\n",
    "print(\"There are\", len(df_positive), \"positive reviews and\", \n",
    "      len(df_negative), \"negative reviews in the sample of \", len(df), \"reviews.\")"
   ]
  },
  {
   "cell_type": "code",
   "execution_count": 18,
   "metadata": {},
   "outputs": [],
   "source": [
    "df_validation = pd.concat([df_negative.sample(int(.2*len(df_negative))), df_positive.sample(int(.2*len(df_negative)))])\n",
    "df_train = df.drop(df_validation.index)"
   ]
  },
  {
   "cell_type": "code",
   "execution_count": 19,
   "metadata": {},
   "outputs": [
    {
     "data": {
      "text/html": [
       "<div>\n",
       "<style scoped>\n",
       "    .dataframe tbody tr th:only-of-type {\n",
       "        vertical-align: middle;\n",
       "    }\n",
       "\n",
       "    .dataframe tbody tr th {\n",
       "        vertical-align: top;\n",
       "    }\n",
       "\n",
       "    .dataframe thead th {\n",
       "        text-align: right;\n",
       "    }\n",
       "</style>\n",
       "<table border=\"1\" class=\"dataframe\">\n",
       "  <thead>\n",
       "    <tr style=\"text-align: right;\">\n",
       "      <th></th>\n",
       "      <th>Review</th>\n",
       "      <th>Sentiment</th>\n",
       "      <th>embeddingVector</th>\n",
       "    </tr>\n",
       "  </thead>\n",
       "  <tbody>\n",
       "    <tr>\n",
       "      <th>660577</th>\n",
       "      <td>I loved these.  They were very easy to make an...</td>\n",
       "      <td>1</td>\n",
       "      <td>[0.080055594, 0.087401494, -0.061562277, -0.01...</td>\n",
       "    </tr>\n",
       "    <tr>\n",
       "      <th>362615</th>\n",
       "      <td>I also found this on the asparagus.  It has be...</td>\n",
       "      <td>1</td>\n",
       "      <td>[0.03789976, 0.026698634, 0.028239977, -0.0480...</td>\n",
       "    </tr>\n",
       "    <tr>\n",
       "      <th>204802</th>\n",
       "      <td>DELICIOUS...The first batch we inhaled as they...</td>\n",
       "      <td>1</td>\n",
       "      <td>[0.08293277, -0.112285666, 0.22610994, 0.07432...</td>\n",
       "    </tr>\n",
       "    <tr>\n",
       "      <th>1109870</th>\n",
       "      <td>Taste just like the Horchata in my favorite Me...</td>\n",
       "      <td>1</td>\n",
       "      <td>[0.10577951, 0.060251545, 0.03666158, -0.01374...</td>\n",
       "    </tr>\n",
       "    <tr>\n",
       "      <th>501428</th>\n",
       "      <td>This cheesecake is to die for!  I made it toda...</td>\n",
       "      <td>1</td>\n",
       "      <td>[0.009537853, -0.0145894075, 0.031902023, -0.0...</td>\n",
       "    </tr>\n",
       "    <tr>\n",
       "      <th>280897</th>\n",
       "      <td>Not as spicy as anticipated.  Flavor was OK.  ...</td>\n",
       "      <td>1</td>\n",
       "      <td>[0.08075458, 0.039733745, -0.07250014, 0.01516...</td>\n",
       "    </tr>\n",
       "    <tr>\n",
       "      <th>1144601</th>\n",
       "      <td>Super easy, super quick, super healthy! This t...</td>\n",
       "      <td>1</td>\n",
       "      <td>[0.03954293, -0.0400705, 0.086222164, -0.02621...</td>\n",
       "    </tr>\n",
       "    <tr>\n",
       "      <th>1129883</th>\n",
       "      <td>Absolutely SCRUMPTIOUS &amp; EASY; my \"helper\" was...</td>\n",
       "      <td>1</td>\n",
       "      <td>[-0.026520308, -0.16191365, 0.17572378, -0.159...</td>\n",
       "    </tr>\n",
       "    <tr>\n",
       "      <th>1105881</th>\n",
       "      <td>I made mine in the slow cooker and on the stov...</td>\n",
       "      <td>1</td>\n",
       "      <td>[-0.15829054, -0.09298427, 0.107586704, 0.0348...</td>\n",
       "    </tr>\n",
       "    <tr>\n",
       "      <th>567826</th>\n",
       "      <td>Mine did not come out like the picture at all....</td>\n",
       "      <td>0</td>\n",
       "      <td>[0.024720903, 0.00085007015, -0.011291066, -0....</td>\n",
       "    </tr>\n",
       "  </tbody>\n",
       "</table>\n",
       "</div>"
      ],
      "text/plain": [
       "                                                    Review  Sentiment  \\\n",
       "660577   I loved these.  They were very easy to make an...          1   \n",
       "362615   I also found this on the asparagus.  It has be...          1   \n",
       "204802   DELICIOUS...The first batch we inhaled as they...          1   \n",
       "1109870  Taste just like the Horchata in my favorite Me...          1   \n",
       "501428   This cheesecake is to die for!  I made it toda...          1   \n",
       "280897   Not as spicy as anticipated.  Flavor was OK.  ...          1   \n",
       "1144601  Super easy, super quick, super healthy! This t...          1   \n",
       "1129883  Absolutely SCRUMPTIOUS & EASY; my \"helper\" was...          1   \n",
       "1105881  I made mine in the slow cooker and on the stov...          1   \n",
       "567826   Mine did not come out like the picture at all....          0   \n",
       "\n",
       "                                           embeddingVector  \n",
       "660577   [0.080055594, 0.087401494, -0.061562277, -0.01...  \n",
       "362615   [0.03789976, 0.026698634, 0.028239977, -0.0480...  \n",
       "204802   [0.08293277, -0.112285666, 0.22610994, 0.07432...  \n",
       "1109870  [0.10577951, 0.060251545, 0.03666158, -0.01374...  \n",
       "501428   [0.009537853, -0.0145894075, 0.031902023, -0.0...  \n",
       "280897   [0.08075458, 0.039733745, -0.07250014, 0.01516...  \n",
       "1144601  [0.03954293, -0.0400705, 0.086222164, -0.02621...  \n",
       "1129883  [-0.026520308, -0.16191365, 0.17572378, -0.159...  \n",
       "1105881  [-0.15829054, -0.09298427, 0.107586704, 0.0348...  \n",
       "567826   [0.024720903, 0.00085007015, -0.011291066, -0....  "
      ]
     },
     "execution_count": 19,
     "metadata": {},
     "output_type": "execute_result"
    }
   ],
   "source": [
    "df_train.sample(n=10, random_state=220)"
   ]
  },
  {
   "cell_type": "code",
   "execution_count": 20,
   "metadata": {},
   "outputs": [],
   "source": [
    "X_train = np.array(df_train.embeddingVector.values.tolist())\n",
    "y_train = np.array(df_train.Sentiment.values.tolist())\n",
    "X_val = np.array(df_validation.embeddingVector.values.tolist())\n",
    "y_val = np.array(df_validation.Sentiment.values.tolist())"
   ]
  },
  {
   "cell_type": "code",
   "execution_count": 21,
   "metadata": {},
   "outputs": [
    {
     "name": "stdout",
     "output_type": "stream",
     "text": [
      "(26258, 300)\n",
      "(250, 300)\n"
     ]
    }
   ],
   "source": [
    "print(X_train.shape)\n",
    "print(X_val.shape)"
   ]
  },
  {
   "cell_type": "code",
   "execution_count": 23,
   "metadata": {},
   "outputs": [
    {
     "name": "stdout",
     "output_type": "stream",
     "text": [
      "(26258,)\n",
      "(250,)\n"
     ]
    }
   ],
   "source": [
    "print(y_train.shape)\n",
    "print(y_val.shape)"
   ]
  },
  {
   "cell_type": "code",
   "execution_count": 24,
   "metadata": {},
   "outputs": [],
   "source": [
    "# scale the data to attempt to avoid overfitting\n",
    "scaler = StandardScaler()\n",
    "X_train = scaler.fit_transform(X_train)\n",
    "X_val = scaler.transform(X_val)"
   ]
  },
  {
   "cell_type": "code",
   "execution_count": 25,
   "metadata": {},
   "outputs": [
    {
     "data": {
      "text/plain": [
       "LogisticRegression(C=0.05, random_state=0, solver='liblinear')"
      ]
     },
     "execution_count": 25,
     "metadata": {},
     "output_type": "execute_result"
    }
   ],
   "source": [
    "# small value of C for more regularization\n",
    "log_reg_model = LogisticRegression(solver='liblinear', C=0.05, random_state=0)\n",
    "log_reg_model.fit(X_train, y_train)"
   ]
  },
  {
   "cell_type": "code",
   "execution_count": 26,
   "metadata": {},
   "outputs": [],
   "source": [
    "## log_reg_model.predict_proba(X) gives a \n",
    "## matrix of probabilities that the predicted output given input X \n",
    "## is equal to zero (first column) or one (second column)\n",
    "\n",
    "y_train_pred_probabilities = log_reg_model.predict_proba(X_train)[:,1]\n",
    "y_val_pred_probabilities = log_reg_model.predict_proba(X_val)[:,1]\n"
   ]
  },
  {
   "cell_type": "code",
   "execution_count": 27,
   "metadata": {},
   "outputs": [],
   "source": [
    "## Now plot how the accuracy changes with the cutoff\n",
    "cutoffs = np.arange(0,1.01,.01)\n",
    "#https://stackoverflow.com/questions/31488517/getting-the-maximum-accuracy-for-a-binary-probabilistic-classifier-in-scikit-lea\n",
    "training_accuracy_scores = []\n",
    "accuracy_scores = []\n",
    "\n",
    "for cutoff in cutoffs:\n",
    "    training_accuracy_scores.append(accuracy_score(y_train, [m > cutoff for m in y_train_pred_probabilities]))\n",
    "    accuracy_scores.append(accuracy_score(y_val, [m > cutoff for m in y_val_pred_probabilities]))\n",
    "\n",
    "training_accuracies = np.array(training_accuracy_scores)\n",
    "# max_training_accuracy = training_accuracies.max() \n",
    "# max_training_accuracy_cutoff =  cutoffs[training_accuracies.argmax()]\n",
    "\n",
    "accuracies = np.array(accuracy_scores)\n",
    "# max_accuracy = accuracies.max() \n",
    "# max_accuracy_cutoff =  cutoffs[accuracies.argmax()]\n"
   ]
  },
  {
   "cell_type": "code",
   "execution_count": 28,
   "metadata": {},
   "outputs": [
    {
     "data": {
      "image/png": "[encoded data removed]",
      "text/plain": [
       "<Figure size 864x576 with 1 Axes>"
      ]
     },
     "metadata": {
      "needs_background": "light"
     },
     "output_type": "display_data"
    }
   ],
   "source": [
    "plt.figure(figsize=(12,8))\n",
    "\n",
    "plt.scatter(cutoffs, accuracies, label='training accuracy scores')\n",
    "plt.scatter(cutoffs, training_accuracies, label='training accuracy scores')\n",
    "\n",
    "plt.xlabel(\"cutoff\",fontsize=16)\n",
    "plt.ylabel(\"accuracy score\",fontsize=16)\n",
    "\n",
    "plt.legend()\n",
    "plt.show()"
   ]
  },
  {
   "cell_type": "code",
   "execution_count": 30,
   "metadata": {},
   "outputs": [
    {
     "name": "stdout",
     "output_type": "stream",
     "text": [
      "Let's go with a cutoff of 0.96\n",
      "The accuracy on the training set is 0.8605758245106253\n",
      "The accuracy on the validation set is 0.736\n"
     ]
    }
   ],
   "source": [
    "c = 0.96\n",
    "y_train_pred = 1*(y_train_pred_probabilities > c)\n",
    "y_val_pred = 1*(y_val_pred_probabilities > c)\n",
    "print(\"Let's go with a cutoff of\", c)\n",
    "print(\"The accuracy on the training set is\", accuracy_score(y_train_pred, y_train))\n",
    "print(\"The accuracy on the validation set is\", accuracy_score(y_val_pred, y_val))"
   ]
  },
  {
   "cell_type": "markdown",
   "metadata": {},
   "source": [
    "Now we'll use this model, fitted to the food.com data, with the chosen cutoff of 0.96 (for determining class 1) to predict the sentiment classes for the tahini data."
   ]
  },
  {
   "cell_type": "code",
   "execution_count": 32,
   "metadata": {},
   "outputs": [
    {
     "data": {
      "text/html": [
       "<div>\n",
       "<style scoped>\n",
       "    .dataframe tbody tr th:only-of-type {\n",
       "        vertical-align: middle;\n",
       "    }\n",
       "\n",
       "    .dataframe tbody tr th {\n",
       "        vertical-align: top;\n",
       "    }\n",
       "\n",
       "    .dataframe thead th {\n",
       "        text-align: right;\n",
       "    }\n",
       "</style>\n",
       "<table border=\"1\" class=\"dataframe\">\n",
       "  <thead>\n",
       "    <tr style=\"text-align: right;\">\n",
       "      <th></th>\n",
       "      <th>user</th>\n",
       "      <th>comment</th>\n",
       "      <th>sentiment</th>\n",
       "    </tr>\n",
       "  </thead>\n",
       "  <tbody>\n",
       "    <tr>\n",
       "      <th>0</th>\n",
       "      <td>lmk</td>\n",
       "      <td>Yum.  These took much longer than 16 minutes t...</td>\n",
       "      <td>pos</td>\n",
       "    </tr>\n",
       "    <tr>\n",
       "      <th>1</th>\n",
       "      <td>Sonya</td>\n",
       "      <td>If you follow the recipe as written the tahini...</td>\n",
       "      <td>pos</td>\n",
       "    </tr>\n",
       "    <tr>\n",
       "      <th>2</th>\n",
       "      <td>KV</td>\n",
       "      <td>I have made these cookies 5 times. My advice i...</td>\n",
       "      <td>pos</td>\n",
       "    </tr>\n",
       "    <tr>\n",
       "      <th>3</th>\n",
       "      <td>MaryN</td>\n",
       "      <td>I liked this- the tahini is slightly more subt...</td>\n",
       "      <td>pos</td>\n",
       "    </tr>\n",
       "    <tr>\n",
       "      <th>4</th>\n",
       "      <td>Maggie B</td>\n",
       "      <td>Used Shaila M's tweaks. Baked first tray strai...</td>\n",
       "      <td>pos</td>\n",
       "    </tr>\n",
       "  </tbody>\n",
       "</table>\n",
       "</div>"
      ],
      "text/plain": [
       "       user                                            comment sentiment\n",
       "0       lmk  Yum.  These took much longer than 16 minutes t...       pos\n",
       "1     Sonya  If you follow the recipe as written the tahini...       pos\n",
       "2        KV  I have made these cookies 5 times. My advice i...       pos\n",
       "3     MaryN  I liked this- the tahini is slightly more subt...       pos\n",
       "4  Maggie B  Used Shaila M's tweaks. Baked first tray strai...       pos"
      ]
     },
     "execution_count": 32,
     "metadata": {},
     "output_type": "execute_result"
    }
   ],
   "source": [
    "tahini_dataframe = pd.read_csv(\"salted-tahini-chocolate-chip-cookies-with-sentiment.csv\")\n",
    "tahini_df = tahini_dataframe.copy()\n",
    "tahini_df.head()"
   ]
  },
  {
   "cell_type": "code",
   "execution_count": 33,
   "metadata": {},
   "outputs": [
    {
     "data": {
      "text/html": [
       "<div>\n",
       "<style scoped>\n",
       "    .dataframe tbody tr th:only-of-type {\n",
       "        vertical-align: middle;\n",
       "    }\n",
       "\n",
       "    .dataframe tbody tr th {\n",
       "        vertical-align: top;\n",
       "    }\n",
       "\n",
       "    .dataframe thead th {\n",
       "        text-align: right;\n",
       "    }\n",
       "</style>\n",
       "<table border=\"1\" class=\"dataframe\">\n",
       "  <thead>\n",
       "    <tr style=\"text-align: right;\">\n",
       "      <th></th>\n",
       "      <th>user</th>\n",
       "      <th>comment</th>\n",
       "      <th>sentiment</th>\n",
       "      <th>sentiment_class</th>\n",
       "    </tr>\n",
       "  </thead>\n",
       "  <tbody>\n",
       "    <tr>\n",
       "      <th>0</th>\n",
       "      <td>lmk</td>\n",
       "      <td>Yum.  These took much longer than 16 minutes t...</td>\n",
       "      <td>pos</td>\n",
       "      <td>1</td>\n",
       "    </tr>\n",
       "    <tr>\n",
       "      <th>1</th>\n",
       "      <td>Sonya</td>\n",
       "      <td>If you follow the recipe as written the tahini...</td>\n",
       "      <td>pos</td>\n",
       "      <td>1</td>\n",
       "    </tr>\n",
       "    <tr>\n",
       "      <th>2</th>\n",
       "      <td>KV</td>\n",
       "      <td>I have made these cookies 5 times. My advice i...</td>\n",
       "      <td>pos</td>\n",
       "      <td>1</td>\n",
       "    </tr>\n",
       "    <tr>\n",
       "      <th>3</th>\n",
       "      <td>MaryN</td>\n",
       "      <td>I liked this- the tahini is slightly more subt...</td>\n",
       "      <td>pos</td>\n",
       "      <td>1</td>\n",
       "    </tr>\n",
       "    <tr>\n",
       "      <th>4</th>\n",
       "      <td>Maggie B</td>\n",
       "      <td>Used Shaila M's tweaks. Baked first tray strai...</td>\n",
       "      <td>pos</td>\n",
       "      <td>1</td>\n",
       "    </tr>\n",
       "  </tbody>\n",
       "</table>\n",
       "</div>"
      ],
      "text/plain": [
       "       user                                            comment sentiment  \\\n",
       "0       lmk  Yum.  These took much longer than 16 minutes t...       pos   \n",
       "1     Sonya  If you follow the recipe as written the tahini...       pos   \n",
       "2        KV  I have made these cookies 5 times. My advice i...       pos   \n",
       "3     MaryN  I liked this- the tahini is slightly more subt...       pos   \n",
       "4  Maggie B  Used Shaila M's tweaks. Baked first tray strai...       pos   \n",
       "\n",
       "   sentiment_class  \n",
       "0                1  \n",
       "1                1  \n",
       "2                1  \n",
       "3                1  \n",
       "4                1  "
      ]
     },
     "execution_count": 33,
     "metadata": {},
     "output_type": "execute_result"
    }
   ],
   "source": [
    "tahini_df['sentiment_class'] = 0\n",
    "tahini_df.loc[tahini_df['sentiment']=='pos', 'sentiment_class'] = 1\n",
    "tahini_df.head()"
   ]
  },
  {
   "cell_type": "code",
   "execution_count": 34,
   "metadata": {},
   "outputs": [
    {
     "name": "stdout",
     "output_type": "stream",
     "text": [
      "CPU times: user 26.2 ms, sys: 2.84 ms, total: 29.1 ms\n",
      "Wall time: 32.6 ms\n"
     ]
    }
   ],
   "source": [
    "%%time\n",
    "tokenizedComments = [gensim.utils.simple_preprocess(comment) for comment in tahini_df.comment.values]\n",
    "tahini_df['tokenizedComments'] = tokenizedComments"
   ]
  },
  {
   "cell_type": "code",
   "execution_count": 35,
   "metadata": {},
   "outputs": [
    {
     "name": "stdout",
     "output_type": "stream",
     "text": [
      "CPU times: user 594 ms, sys: 30.7 ms, total: 625 ms\n",
      "Wall time: 1.82 s\n"
     ]
    }
   ],
   "source": [
    "%%time\n",
    "embedding_vectors = [embedding_model.infer_vector(tokenized_comment) for tokenized_comment in tokenizedComments]\n",
    "tahini_df['embeddingVector'] = embedding_vectors"
   ]
  },
  {
   "cell_type": "code",
   "execution_count": 36,
   "metadata": {},
   "outputs": [
    {
     "data": {
      "text/html": [
       "<div>\n",
       "<style scoped>\n",
       "    .dataframe tbody tr th:only-of-type {\n",
       "        vertical-align: middle;\n",
       "    }\n",
       "\n",
       "    .dataframe tbody tr th {\n",
       "        vertical-align: top;\n",
       "    }\n",
       "\n",
       "    .dataframe thead th {\n",
       "        text-align: right;\n",
       "    }\n",
       "</style>\n",
       "<table border=\"1\" class=\"dataframe\">\n",
       "  <thead>\n",
       "    <tr style=\"text-align: right;\">\n",
       "      <th></th>\n",
       "      <th>user</th>\n",
       "      <th>comment</th>\n",
       "      <th>sentiment</th>\n",
       "      <th>sentiment_class</th>\n",
       "      <th>tokenizedComments</th>\n",
       "      <th>embeddingVector</th>\n",
       "    </tr>\n",
       "  </thead>\n",
       "  <tbody>\n",
       "    <tr>\n",
       "      <th>0</th>\n",
       "      <td>lmk</td>\n",
       "      <td>Yum.  These took much longer than 16 minutes t...</td>\n",
       "      <td>pos</td>\n",
       "      <td>1</td>\n",
       "      <td>[yum, these, took, much, longer, than, minutes...</td>\n",
       "      <td>[0.02246035, 0.03404442, 0.103791595, 0.005089...</td>\n",
       "    </tr>\n",
       "    <tr>\n",
       "      <th>1</th>\n",
       "      <td>Sonya</td>\n",
       "      <td>If you follow the recipe as written the tahini...</td>\n",
       "      <td>pos</td>\n",
       "      <td>1</td>\n",
       "      <td>[if, you, follow, the, recipe, as, written, th...</td>\n",
       "      <td>[0.044857815, -0.04239704, 0.06639645, 0.01923...</td>\n",
       "    </tr>\n",
       "    <tr>\n",
       "      <th>2</th>\n",
       "      <td>KV</td>\n",
       "      <td>I have made these cookies 5 times. My advice i...</td>\n",
       "      <td>pos</td>\n",
       "      <td>1</td>\n",
       "      <td>[have, made, these, cookies, times, my, advice...</td>\n",
       "      <td>[0.02551145, -0.03125408, 0.19305754, 0.092908...</td>\n",
       "    </tr>\n",
       "    <tr>\n",
       "      <th>3</th>\n",
       "      <td>MaryN</td>\n",
       "      <td>I liked this- the tahini is slightly more subt...</td>\n",
       "      <td>pos</td>\n",
       "      <td>1</td>\n",
       "      <td>[liked, this, the, tahini, is, slightly, more,...</td>\n",
       "      <td>[0.06126368, 0.03790687, 0.0713243, -0.0389027...</td>\n",
       "    </tr>\n",
       "    <tr>\n",
       "      <th>4</th>\n",
       "      <td>Maggie B</td>\n",
       "      <td>Used Shaila M's tweaks. Baked first tray strai...</td>\n",
       "      <td>pos</td>\n",
       "      <td>1</td>\n",
       "      <td>[used, shaila, tweaks, baked, first, tray, str...</td>\n",
       "      <td>[0.013158846, 0.0029428252, 0.010071039, 0.044...</td>\n",
       "    </tr>\n",
       "  </tbody>\n",
       "</table>\n",
       "</div>"
      ],
      "text/plain": [
       "       user                                            comment sentiment  \\\n",
       "0       lmk  Yum.  These took much longer than 16 minutes t...       pos   \n",
       "1     Sonya  If you follow the recipe as written the tahini...       pos   \n",
       "2        KV  I have made these cookies 5 times. My advice i...       pos   \n",
       "3     MaryN  I liked this- the tahini is slightly more subt...       pos   \n",
       "4  Maggie B  Used Shaila M's tweaks. Baked first tray strai...       pos   \n",
       "\n",
       "   sentiment_class                                  tokenizedComments  \\\n",
       "0                1  [yum, these, took, much, longer, than, minutes...   \n",
       "1                1  [if, you, follow, the, recipe, as, written, th...   \n",
       "2                1  [have, made, these, cookies, times, my, advice...   \n",
       "3                1  [liked, this, the, tahini, is, slightly, more,...   \n",
       "4                1  [used, shaila, tweaks, baked, first, tray, str...   \n",
       "\n",
       "                                     embeddingVector  \n",
       "0  [0.02246035, 0.03404442, 0.103791595, 0.005089...  \n",
       "1  [0.044857815, -0.04239704, 0.06639645, 0.01923...  \n",
       "2  [0.02551145, -0.03125408, 0.19305754, 0.092908...  \n",
       "3  [0.06126368, 0.03790687, 0.0713243, -0.0389027...  \n",
       "4  [0.013158846, 0.0029428252, 0.010071039, 0.044...  "
      ]
     },
     "execution_count": 36,
     "metadata": {},
     "output_type": "execute_result"
    }
   ],
   "source": [
    "tahini_df.head()"
   ]
  },
  {
   "cell_type": "code",
   "execution_count": 37,
   "metadata": {},
   "outputs": [],
   "source": [
    "X_test = np.array(tahini_df.embeddingVector.values.tolist())\n",
    "y_test = np.array(tahini_df.sentiment_class.values.tolist())"
   ]
  },
  {
   "cell_type": "code",
   "execution_count": 38,
   "metadata": {},
   "outputs": [],
   "source": [
    "X_test = scaler.transform(X_test)"
   ]
  },
  {
   "cell_type": "code",
   "execution_count": 39,
   "metadata": {},
   "outputs": [],
   "source": [
    "y_tahini_pred_probabilities = log_reg_model.predict_proba(X_test)[:,1]\n",
    "\n",
    "y_tahini_predicted = 1*(y_tahini_pred_probabilities > c)"
   ]
  },
  {
   "cell_type": "code",
   "execution_count": 40,
   "metadata": {},
   "outputs": [
    {
     "data": {
      "text/plain": [
       "0.647887323943662"
      ]
     },
     "execution_count": 40,
     "metadata": {},
     "output_type": "execute_result"
    }
   ],
   "source": [
    "accuracy_score(y_test, y_tahini_predicted)"
   ]
  },
  {
   "cell_type": "code",
   "execution_count": null,
   "metadata": {},
   "outputs": [],
   "source": []
  }
 ],
 "metadata": {
  "kernelspec": {
   "display_name": "Python 3",
   "language": "python",
   "name": "python3"
  },
  "language_info": {
   "codemirror_mode": {
    "name": "ipython",
    "version": 3
   },
   "file_extension": ".py",
   "mimetype": "text/x-python",
   "name": "python",
   "nbconvert_exporter": "python",
   "pygments_lexer": "ipython3",
   "version": "3.7.6"
  }
 },
 "nbformat": 4,
 "nbformat_minor": 4
}
