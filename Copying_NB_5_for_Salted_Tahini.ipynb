{
  "nbformat": 4,
  "nbformat_minor": 0,
  "metadata": {
    "colab": {
      "name": "Copying NB 5 for Salted Tahini",
      "provenance": [],
      "collapsed_sections": [],
      "include_colab_link": true
    },
    "kernelspec": {
      "name": "python3",
      "display_name": "Python 3"
    },
    "language_info": {
      "name": "python"
    }
  },
  "cells": [
    {
      "cell_type": "markdown",
      "metadata": {
        "id": "view-in-github",
        "colab_type": "text"
      },
      "source": [
        "<a href=\"https://colab.research.google.com/github/neeedz/collaborative-cooking-with-nlp/blob/main/Copying_NB_5_for_Salted_Tahini.ipynb\" target=\"_parent\"><img src=\"https://colab.research.google.com/assets/colab-badge.svg\" alt=\"Open In Colab\"/></a>"
      ]
    },
    {
      "cell_type": "markdown",
      "metadata": {
        "id": "m1rxcMymMb9w"
      },
      "source": [
        "PLAN FOR SUNDAY\n",
        "1.   First, figure out how to convert the text into vectors. Word2vec? Some of the resources that were shared earlier?\n",
        "2.   Try using the models trained on the imdb data for the tahini recipe?\n",
        "3.   Try doing a train/test split and train the simple RNN directly on the tahini recipe!\n",
        "\n",
        "\n",
        "\n",
        "\n"
      ]
    },
    {
      "cell_type": "code",
      "metadata": {
        "id": "izDRiEwUMzOq"
      },
      "source": [
        ""
      ],
      "execution_count": null,
      "outputs": []
    }
  ]
}